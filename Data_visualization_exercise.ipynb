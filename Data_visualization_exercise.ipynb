{
  "nbformat": 4,
  "nbformat_minor": 0,
  "metadata": {
    "colab": {
      "name": "Data_visualization_exercise.ipynb",
      "provenance": [],
      "collapsed_sections": [],
      "mount_file_id": "1GDs7mP9fkMn44UYPw9QDh3hq3aEMX7Ih",
      "authorship_tag": "ABX9TyNpHBBF4t9vR5DIcDc5W1Kx",
      "include_colab_link": true
    },
    "kernelspec": {
      "name": "python3",
      "display_name": "Python 3"
    },
    "language_info": {
      "name": "python"
    }
  },
  "cells": [
    {
      "cell_type": "markdown",
      "metadata": {
        "id": "view-in-github",
        "colab_type": "text"
      },
      "source": [
        "<a href=\"https://colab.research.google.com/github/Locke0/Global-Imports-of-Cocoa-per-Region/blob/main/Data_visualization_exercise.ipynb\" target=\"_parent\"><img src=\"https://colab.research.google.com/assets/colab-badge.svg\" alt=\"Open In Colab\"/></a>"
      ]
    },
    {
      "cell_type": "code",
      "metadata": {
        "colab": {
          "base_uri": "https://localhost:8080/"
        },
        "id": "015KWfbOjVvx",
        "outputId": "7b582f87-98c3-41f6-a902-371901a59cfd"
      },
      "source": [
        "from google.colab import drive\n",
        "drive.mount('/content/drive')"
      ],
      "execution_count": 7,
      "outputs": [
        {
          "output_type": "stream",
          "text": [
            "Drive already mounted at /content/drive; to attempt to forcibly remount, call drive.mount(\"/content/drive\", force_remount=True).\n"
          ],
          "name": "stdout"
        }
      ]
    },
    {
      "cell_type": "code",
      "metadata": {
        "colab": {
          "base_uri": "https://localhost:8080/",
          "height": 519
        },
        "id": "jlx-xqesjQx_",
        "outputId": "28772bfd-1529-41e6-b76b-cb9958b1ea33"
      },
      "source": [
        "import pandas as pd\n",
        "import matplotlib.pyplot as plt\n",
        "import seaborn as sns\n",
        "import numpy as np\n",
        "\n",
        "# load in the data\n",
        "filename = '/content/drive/MyDrive/Coding Dojo/Data/Global import of cocoa beans.xlsx'\n",
        "df = pd.read_excel(filename)\n",
        "df"
      ],
      "execution_count": 34,
      "outputs": [
        {
          "output_type": "execute_result",
          "data": {
            "text/html": [
              "<div>\n",
              "<style scoped>\n",
              "    .dataframe tbody tr th:only-of-type {\n",
              "        vertical-align: middle;\n",
              "    }\n",
              "\n",
              "    .dataframe tbody tr th {\n",
              "        vertical-align: top;\n",
              "    }\n",
              "\n",
              "    .dataframe thead th {\n",
              "        text-align: right;\n",
              "    }\n",
              "</style>\n",
              "<table border=\"1\" class=\"dataframe\">\n",
              "  <thead>\n",
              "    <tr style=\"text-align: right;\">\n",
              "      <th></th>\n",
              "      <th>Region</th>\n",
              "      <th>Year</th>\n",
              "      <th>Import in tonnes</th>\n",
              "    </tr>\n",
              "  </thead>\n",
              "  <tbody>\n",
              "    <tr>\n",
              "      <th>0</th>\n",
              "      <td>Asia &amp; Oceania</td>\n",
              "      <td>2015</td>\n",
              "      <td>565000</td>\n",
              "    </tr>\n",
              "    <tr>\n",
              "      <th>1</th>\n",
              "      <td>Asia &amp; Oceania</td>\n",
              "      <td>2016</td>\n",
              "      <td>592000</td>\n",
              "    </tr>\n",
              "    <tr>\n",
              "      <th>2</th>\n",
              "      <td>Asia &amp; Oceania</td>\n",
              "      <td>2017</td>\n",
              "      <td>866000</td>\n",
              "    </tr>\n",
              "    <tr>\n",
              "      <th>3</th>\n",
              "      <td>Asia &amp; Oceania</td>\n",
              "      <td>2018</td>\n",
              "      <td>927000</td>\n",
              "    </tr>\n",
              "    <tr>\n",
              "      <th>4</th>\n",
              "      <td>Asia &amp; Oceania</td>\n",
              "      <td>2019</td>\n",
              "      <td>924000</td>\n",
              "    </tr>\n",
              "    <tr>\n",
              "      <th>5</th>\n",
              "      <td>Europe</td>\n",
              "      <td>2015</td>\n",
              "      <td>1997000</td>\n",
              "    </tr>\n",
              "    <tr>\n",
              "      <th>6</th>\n",
              "      <td>Europe</td>\n",
              "      <td>2016</td>\n",
              "      <td>2219000</td>\n",
              "    </tr>\n",
              "    <tr>\n",
              "      <th>7</th>\n",
              "      <td>Europe</td>\n",
              "      <td>2017</td>\n",
              "      <td>2444000</td>\n",
              "    </tr>\n",
              "    <tr>\n",
              "      <th>8</th>\n",
              "      <td>Europe</td>\n",
              "      <td>2018</td>\n",
              "      <td>2554000</td>\n",
              "    </tr>\n",
              "    <tr>\n",
              "      <th>9</th>\n",
              "      <td>Europe</td>\n",
              "      <td>2019</td>\n",
              "      <td>2500000</td>\n",
              "    </tr>\n",
              "    <tr>\n",
              "      <th>10</th>\n",
              "      <td>Americas</td>\n",
              "      <td>2015</td>\n",
              "      <td>592000</td>\n",
              "    </tr>\n",
              "    <tr>\n",
              "      <th>11</th>\n",
              "      <td>Americas</td>\n",
              "      <td>2016</td>\n",
              "      <td>586000</td>\n",
              "    </tr>\n",
              "    <tr>\n",
              "      <th>12</th>\n",
              "      <td>Americas</td>\n",
              "      <td>2017</td>\n",
              "      <td>651000</td>\n",
              "    </tr>\n",
              "    <tr>\n",
              "      <th>13</th>\n",
              "      <td>Americas</td>\n",
              "      <td>2018</td>\n",
              "      <td>621000</td>\n",
              "    </tr>\n",
              "    <tr>\n",
              "      <th>14</th>\n",
              "      <td>Americas</td>\n",
              "      <td>2019</td>\n",
              "      <td>549000</td>\n",
              "    </tr>\n",
              "  </tbody>\n",
              "</table>\n",
              "</div>"
            ],
            "text/plain": [
              "            Region  Year  Import in tonnes\n",
              "0   Asia & Oceania  2015            565000\n",
              "1   Asia & Oceania  2016            592000\n",
              "2   Asia & Oceania  2017            866000\n",
              "3   Asia & Oceania  2018            927000\n",
              "4   Asia & Oceania  2019            924000\n",
              "5           Europe  2015           1997000\n",
              "6           Europe  2016           2219000\n",
              "7           Europe  2017           2444000\n",
              "8           Europe  2018           2554000\n",
              "9           Europe  2019           2500000\n",
              "10        Americas  2015            592000\n",
              "11        Americas  2016            586000\n",
              "12        Americas  2017            651000\n",
              "13        Americas  2018            621000\n",
              "14        Americas  2019            549000"
            ]
          },
          "metadata": {
            "tags": []
          },
          "execution_count": 34
        }
      ]
    },
    {
      "cell_type": "code",
      "metadata": {
        "id": "5sCEJK0xkDCm",
        "colab": {
          "base_uri": "https://localhost:8080/",
          "height": 300
        },
        "outputId": "bee777a8-0782-4436-dfa8-930dfdeb600b"
      },
      "source": [
        "AO_filter = df['Region'] == 'Asia & Oceania'\n",
        "EU_filter = df['Region'] == 'Europe'\n",
        "AM_filter = df['Region'] == 'Americas'\n",
        "\n",
        "f, ax = plt.subplots(1, 1)\n",
        "sns.lineplot(x = df[AO_filter]['Year'], y = df[AO_filter]['Import in tonnes']);\n",
        "sns.lineplot(x = df[EU_filter]['Year'], y = df[EU_filter]['Import in tonnes']);\n",
        "sns.lineplot(x = df[AM_filter]['Year'], y = df[AM_filter]['Import in tonnes']);\n",
        "ax.legend(df['Region']);\n",
        "plt.title('Global Imports of Cocoa from 2015 to 2019');\n",
        "plt.xlabel('Year', fontsize=15)\n",
        "plt.ylabel('Import in tonnes', fontsize=15)\n",
        "plt.show()"
      ],
      "execution_count": 53,
      "outputs": [
        {
          "output_type": "display_data",
          "data": {
            "image/png": "[encoded data removed]",
            "text/plain": [
              "<Figure size 432x288 with 1 Axes>"
            ]
          },
          "metadata": {
            "tags": [],
            "needs_background": "light"
          }
        }
      ]
    }
  ]
}